{
 "cells": [
  {
   "cell_type": "markdown",
   "metadata": {},
   "source": [
    "# Variational Principle  using Symbolic Mathematics in Python "
   ]
  },
  {
   "cell_type": "markdown",
   "metadata": {},
   "source": [
    "## 1. Introduction"
   ]
  },
  {
   "cell_type": "markdown",
   "metadata": {},
   "source": [
    "The variational principle tells us that we can use a trial wavefunction to solve the Schrodinger equation using the following theorem:\n",
    "\n",
    "$${{\\int {{\\Psi ^*}\\hat H{\\rm{ }}\\Psi } d\\tau } \\over {\\int {{\\Psi ^*}\\Psi } d\\tau }} \\ge {E_0}$$\n",
    "\n",
    "We will use Sympy to solve the particle in a box problem by guessing a trial wavefunction using variational principle"
   ]
  },
  {
   "cell_type": "code",
   "execution_count": 128,
   "metadata": {},
   "outputs": [],
   "source": [
    "import sympy as sym\n"
   ]
  },
  {
   "cell_type": "markdown",
   "metadata": {},
   "source": [
    "This exercise is a bit more self-guided than the other notebooks we have done. One of the most useful things you can do is **open last week's notebook to remember the commands in sympy**. Also, remember that google is your friend:\n",
    "\n",
    "1. [Sympy tutorial](https://docs.sympy.org/latest/tutorial/index.html)\n",
    "2. [Stack Overflow](https://stackoverflow.com/search?q=sympy+)\n",
    "3. [Stack Exchange](https://stackexchange.com/)"
   ]
  },
  {
   "cell_type": "markdown",
   "metadata": {},
   "source": [
    "## 2. Particle in a box"
   ]
  },
  {
   "cell_type": "markdown",
   "metadata": {},
   "source": [
    "The wave function that we pick for a particle in a box needs to have the following properties\n",
    "\n",
    "1. single valued\n",
    "1. normalizable\n",
    "1. function and its first derivative are continuous \n",
    "1. boundary condition that the wave function goes to zero at the ends of the box\n",
    "\n",
    "![Particle in a box](InfiniteSquareWellAnimation.gif)\n",
    "\n",
    "Particle in a box: a is a classical particle, red is real part, blue is imaginary part."
   ]
  },
  {
   "cell_type": "markdown",
   "metadata": {},
   "source": [
    "This particle only expericnes kinetic energy between the box, so the Hamiltonian for this system is\n",
    "\n",
    "$$\\hat H = {{ - {\\hbar ^2}} \\over {2m}}{{{d^2}} \\over {d{x^2}}} + \\left\\{ {\\matrix{{V(x) = 0} & {0 < x < a}  \\cr {V(x) = \\infty } & {x < 0\\text{ }{\\rm{ or}}\\;x > a}  \\cr } } \\right.$$\n",
    "\n",
    "For our purposes, that means we can consider the Hamiltonian to be \n",
    "\n",
    "$$\\hat H = {{ - {\\hbar ^2}} \\over {2m}}{{{d^2}} \\over {d{x^2}}}$$\n",
    "\n",
    "as long as we keep the limits of integration to be $(0,a)$"
   ]
  },
  {
   "cell_type": "markdown",
   "metadata": {},
   "source": [
    "### 2.1 Trial Wave function"
   ]
  },
  {
   "cell_type": "markdown",
   "metadata": {},
   "source": [
    "Although the particle in box has a well known solution\n",
    "\n",
    "[https://en.wikipedia.org/wiki/Particle_in_a_box](https://en.wikipedia.org/wiki/Particle_in_a_box)\n",
    "\n",
    "(or check your favorite pchem book)\n",
    "\n",
    "We are going to guess a trial wave function:\n",
    "\n",
    "$$\\Phi (x) = \\left( {{x \\over a} - {{{x^3}} \\over a^3}} \\right) + \\alpha \\left( {{{{x^5}} \\over {{a^5}}} - {1 \\over 2}\\left( {{{{x^9}} \\over {{a^9}}} + {{{x^9}} \\over {{a^9}}}} \\right)} \\right)$$"
   ]
  },
  {
   "cell_type": "code",
   "execution_count": null,
   "metadata": {},
   "outputs": [],
   "source": []
  },
  {
   "cell_type": "markdown",
   "metadata": {},
   "source": [
    "### 2.2 Exercise: Variational Theorem"
   ]
  },
  {
   "cell_type": "markdown",
   "metadata": {},
   "source": [
    "We are going to follow the following plan:\n",
    "\n",
    "1. Solve for the energy of the trial wave function above  \n",
    "\n",
    "$${E_{trial}} = {{\\int\\limits_0^a {\\Phi (x){{ - {\\hbar ^2}} \\over {2m}}{{{d^2}} \\over {d{x^2}}}\\Phi (x)dx} } \\over {\\int\\limits_0^a {\\Phi {{(x)}^2}dx} }}$$\n",
    "\n",
    "Your answer will be a function of $ m,a,\\text{and } \\alpha$ We will use $\\alpha$ as the parameter we vary to minimize the energy and make a new trial wave function.\n",
    "\n",
    "2. Minimize the trial energy \n",
    "We will use a first derivative of the trial energy $${d \\over {d\\alpha }}{E_{trial}}(\\alpha )$$ to find the value of $\\alpha$ that gives you the lowest energy\n",
    "\n",
    "\n",
    "3. Plot your new wavefunction compared to the ground state particle in a box: $${\\psi _{true}}(x) = {\\left( {{2 \\over a}} \\right)^{1/2}}\\sin {{n\\pi x} \\over a}$$ Plot as a function of $x/a$ from $0$ to $1$. Assuming this has $m=m_e$, and $a=a_0$ use atomic (theorist) units to plot the function.\n",
    "\n",
    "4. Compare your trial energy to the actual energy (using atomic units)\n",
    "$${E_{true}}(n = 1) = {{{\\hbar ^2}{\\pi ^2}} \\over {2m{a^2}}}$$\n"
   ]
  },
  {
   "cell_type": "code",
   "execution_count": 138,
   "metadata": {},
   "outputs": [],
   "source": [
    "\n",
    "import sympy as sym\n",
    "m,a,x,alpha  = sym.symbols('m,a,x,alpha')\n",
    "sym.Rational(1/2)\n",
    "sym.init_printing()"
   ]
  },
  {
   "cell_type": "markdown",
   "metadata": {},
   "source": [
    "Your descriptions/explanations here"
   ]
  },
  {
   "cell_type": "code",
   "execution_count": 149,
   "metadata": {},
   "outputs": [],
   "source": [
    "phi = ((x/a)-(x**3/a**3)+ alpha*((x**5/a**5)-1/2*(x**9/a**9+x**9/a**9)))\n",
    "num1 = (phi*sym.Rational(-1/2))\n",
    "num2= sym.diff(sym.diff(phi,x),x)\n",
    "den1=(phi**2)\n"
   ]
  },
  {
   "cell_type": "code",
   "execution_count": 150,
   "metadata": {},
   "outputs": [],
   "source": [
    "Numerator =sym.integrate((num1*num2),(x,0,a))"
   ]
  },
  {
   "cell_type": "code",
   "execution_count": 151,
   "metadata": {},
   "outputs": [],
   "source": [
    "Denominator= sym.integrate((den1),(x,0,a))"
   ]
  },
  {
   "cell_type": "code",
   "execution_count": 152,
   "metadata": {
    "scrolled": true
   },
   "outputs": [
    {
     "data": {
      "image/png": "[encoded data removed]",
      "text/latex": [
       "$$\\frac{\\frac{1.42081447963801 \\alpha^{2}}{a} - \\frac{1.68831168831169 \\alpha}{a} + \\frac{0.2 \\left(- 10.0 \\alpha - 3.0\\right)}{a} + \\frac{0.111111111111111 \\left(- 10.0 \\alpha^{2} + 36.0 \\alpha\\right)}{a} + \\frac{1.0}{a}}{- 0.0807017543859649 a \\alpha^{2} - 0.0683760683760684 a \\alpha + 0.142857142857143 a \\left(2.0 \\alpha + 1.0\\right) + 0.0909090909090909 a \\left(1.0 \\alpha^{2} - 2.0 \\alpha\\right) - 0.0666666666666667 a}$$"
      ],
      "text/plain": [
       "                                      2                                       \n",
       "                    1.42081447963801⋅α    1.68831168831169⋅α   0.2⋅(-10.0⋅α - \n",
       "                    ─────────────────── - ────────────────── + ───────────────\n",
       "                             a                    a                     a     \n",
       "──────────────────────────────────────────────────────────────────────────────\n",
       "                        2                                                     \n",
       "- 0.0807017543859649⋅a⋅α  - 0.0683760683760684⋅a⋅α + 0.142857142857143⋅a⋅(2.0⋅\n",
       "\n",
       "                         ⎛        2         ⎞                          \n",
       "3.0)   0.111111111111111⋅⎝- 10.0⋅α  + 36.0⋅α⎠   1.0                    \n",
       "──── + ────────────────────────────────────── + ───                    \n",
       "                         a                       a                     \n",
       "───────────────────────────────────────────────────────────────────────\n",
       "                                ⎛     2        ⎞                       \n",
       "α + 1.0) + 0.0909090909090909⋅a⋅⎝1.0⋅α  - 2.0⋅α⎠ - 0.0666666666666667⋅a"
      ]
     },
     "execution_count": 152,
     "metadata": {},
     "output_type": "execute_result"
    }
   ],
   "source": [
    "Numerator/Denominator"
   ]
  },
  {
   "cell_type": "code",
   "execution_count": 153,
   "metadata": {
    "scrolled": true
   },
   "outputs": [
    {
     "data": {
      "image/png": "[encoded data removed]",
      "text/latex": [
       "$$\\frac{0.309703368526898 \\alpha^{2} + 0.311688311688312 \\alpha + 0.4}{0.010207336523126 \\alpha^{2} + 0.0355200355200355 \\alpha + 0.0761904761904761}$$"
      ],
      "text/plain": [
       "                           2                                    \n",
       "        0.309703368526898⋅α  + 0.311688311688312⋅α + 0.4        \n",
       "────────────────────────────────────────────────────────────────\n",
       "                   2                                            \n",
       "0.010207336523126⋅α  + 0.0355200355200355⋅α + 0.0761904761904761"
      ]
     },
     "execution_count": 153,
     "metadata": {},
     "output_type": "execute_result"
    }
   ],
   "source": [
    "E_trial=(Numerator/Denominator).subs(a,1)\n",
    "E_trial"
   ]
  },
  {
   "cell_type": "code",
   "execution_count": 154,
   "metadata": {},
   "outputs": [
    {
     "data": {
      "image/png": "[encoded data removed]",
      "text/latex": [
       "$$\\left\\{-4.73345207773701, -0.257747652303185\\right\\}$$"
      ],
      "text/plain": [
       "{-4.73345207773701, -0.257747652303185}"
      ]
     },
     "execution_count": 154,
     "metadata": {},
     "output_type": "execute_result"
    }
   ],
   "source": [
    "sym.solveset(sym.diff(E_trial,alpha))"
   ]
  },
  {
   "cell_type": "code",
   "execution_count": 155,
   "metadata": {
    "scrolled": true
   },
   "outputs": [
    {
     "data": {
      "image/png": "[encoded data removed]",
      "text/latex": [
       "$$5.02467668289965$$"
      ],
      "text/plain": [
       "5.02467668289965"
      ]
     },
     "execution_count": 155,
     "metadata": {},
     "output_type": "execute_result"
    }
   ],
   "source": [
    "E_trial.subs(alpha, -0.257747652303185)"
   ]
  },
  {
   "cell_type": "code",
   "execution_count": 156,
   "metadata": {
    "scrolled": true
   },
   "outputs": [
    {
     "data": {
      "image/png": "[encoded data removed]",
      "text/latex": [
       "$$42.8762045251218$$"
      ],
      "text/plain": [
       "42.8762045251218"
      ]
     },
     "execution_count": 156,
     "metadata": {},
     "output_type": "execute_result"
    }
   ],
   "source": [
    "E_trial.subs(alpha, -4.73345207773701)"
   ]
  },
  {
   "cell_type": "code",
   "execution_count": 186,
   "metadata": {},
   "outputs": [
    {
     "data": {
      "image/png": "[encoded data removed]",
      "text/latex": [
       "$$\\frac{x}{a} - \\frac{x^{3}}{a^{3}} - \\frac{0.257747652303185 x^{5}}{a^{5}} + \\frac{0.257747652303185 x^{9}}{a^{9}}$$"
      ],
      "text/plain": [
       "     3                      5                      9\n",
       "x   x    0.257747652303185⋅x    0.257747652303185⋅x \n",
       "─ - ── - ──────────────────── + ────────────────────\n",
       "a    3             5                      9         \n",
       "    a             a                      a          "
      ]
     },
     "execution_count": 186,
     "metadata": {},
     "output_type": "execute_result"
    }
   ],
   "source": [
    "Newphi=phi.subs(alpha,-0.257747652303185)\n",
    "Newphi"
   ]
  },
  {
   "cell_type": "code",
   "execution_count": 187,
   "metadata": {},
   "outputs": [
    {
     "data": {
      "image/png": "[encoded data removed]",
      "text/latex": [
       "$$0.257747652303185 x^{9} - 0.257747652303185 x^{5} - x^{3} + x$$"
      ],
      "text/plain": [
       "                   9                      5    3    \n",
       "0.257747652303185⋅x  - 0.257747652303185⋅x  - x  + x"
      ]
     },
     "execution_count": 187,
     "metadata": {},
     "output_type": "execute_result"
    }
   ],
   "source": [
    "Newphi2=Newphi.subs(a,1)\n",
    "Newphi2"
   ]
  },
  {
   "cell_type": "code",
   "execution_count": 169,
   "metadata": {
    "scrolled": true
   },
   "outputs": [
    {
     "data": {
      "image/png": "[encoded data removed]",
      "text/plain": [
       "<Figure size 432x288 with 1 Axes>"
      ]
     },
     "metadata": {
      "needs_background": "light"
     },
     "output_type": "display_data"
    },
    {
     "data": {
      "text/plain": [
       "<sympy.plotting.plot.Plot at 0x11e5185f8>"
      ]
     },
     "execution_count": 169,
     "metadata": {},
     "output_type": "execute_result"
    }
   ],
   "source": [
    "sym.plot(Newphi2,(x,0,1))"
   ]
  },
  {
   "cell_type": "code",
   "execution_count": 188,
   "metadata": {},
   "outputs": [
    {
     "data": {
      "image/png": "[encoded data removed]",
      "text/plain": [
       "<Figure size 432x288 with 1 Axes>"
      ]
     },
     "metadata": {
      "needs_background": "light"
     },
     "output_type": "display_data"
    },
    {
     "data": {
      "text/plain": [
       "<sympy.plotting.plot.Plot at 0x11d7b3940>"
      ]
     },
     "execution_count": 188,
     "metadata": {},
     "output_type": "execute_result"
    }
   ],
   "source": [
    "sym.plot((2**1/2)*sym.sin(sym.pi*x),(x,0,1))"
   ]
  },
  {
   "cell_type": "code",
   "execution_count": 189,
   "metadata": {
    "scrolled": true
   },
   "outputs": [
    {
     "data": {
      "image/png": "[encoded data removed]",
      "text/plain": [
       "<Figure size 432x288 with 1 Axes>"
      ]
     },
     "metadata": {
      "needs_background": "light"
     },
     "output_type": "display_data"
    },
    {
     "data": {
      "text/plain": [
       "<sympy.plotting.plot.Plot at 0x11da9e860>"
      ]
     },
     "execution_count": 189,
     "metadata": {},
     "output_type": "execute_result"
    }
   ],
   "source": [
    "sym.plot((2**1/2)*sym.sin(sym.pi*x),Newphi2,(x,0,1))"
   ]
  },
  {
   "cell_type": "code",
   "execution_count": 178,
   "metadata": {},
   "outputs": [
    {
     "data": {
      "image/png": "[encoded data removed]",
      "text/latex": [
       "$$\\frac{\\pi^{2}}{2 m}$$"
      ],
      "text/plain": [
       "  2\n",
       " π \n",
       "───\n",
       "2⋅m"
      ]
     },
     "execution_count": 178,
     "metadata": {},
     "output_type": "execute_result"
    }
   ],
   "source": [
    "E_true=sym.pi**2/(2*m)\n",
    "E_true\n"
   ]
  },
  {
   "cell_type": "markdown",
   "metadata": {},
   "source": [
    "### 2.3 Exercise: New trial wavefunction"
   ]
  },
  {
   "cell_type": "markdown",
   "metadata": {},
   "source": [
    "Determine the minimum energy of the particle in a box using a new trial wavefunction $$x^\\alpha(x-a)^\\alpha$$\n",
    "\n",
    "1. Find the minimum energy, $E_{trial}$\n",
    "2. Plot the new trial wavefunction and compare it to the true solution and the wavefunction you found above\n",
    "3. Compare you new energy to the trial energy you found above\n",
    "4. Which wavefunction is better? How do you know?"
   ]
  },
  {
   "cell_type": "code",
   "execution_count": 146,
   "metadata": {},
   "outputs": [
    {
     "data": {
      "image/png": "[encoded data removed]",
      "text/latex": [
       "$$x^{\\alpha} \\left(- a + x\\right)^{\\alpha}$$"
      ],
      "text/plain": [
       " α         α\n",
       "x ⋅(-a + x) "
      ]
     },
     "execution_count": 146,
     "metadata": {},
     "output_type": "execute_result"
    }
   ],
   "source": [
    "# Plug in 1 for a, after you solve for values, first find the first dericative of part 1 function in terms of alpa\n",
    "#after you solve both plug them into E trial and see which gives you the lower E value\n",
    "\n",
    "phhi= (x**alpha)*(x-a)**alpha\n",
    "phhi\n"
   ]
  },
  {
   "cell_type": "code",
   "execution_count": 184,
   "metadata": {
    "scrolled": true
   },
   "outputs": [
    {
     "data": {
      "image/png": "[encoded data removed]",
      "text/latex": [
       "$$\\frac{\\alpha \\int_{0}^{a} \\frac{x^{2 \\alpha} \\left(- a + x\\right)^{2 \\alpha} \\left(a^{2} \\alpha - a^{2} - 4 a \\alpha x + 2 a x + 4 \\alpha x^{2} - 2 x^{2}\\right)}{x^{2} \\left(- a + x\\right)^{2}}\\, dx}{2}$$"
      ],
      "text/plain": [
       "  a                                                                  \n",
       "  ⌠                                                                  \n",
       "  ⎮  2⋅α         2⋅α ⎛ 2      2                          2      2⎞   \n",
       "  ⎮ x   ⋅(-a + x)   ⋅⎝a ⋅α - a  - 4⋅a⋅α⋅x + 2⋅a⋅x + 4⋅α⋅x  - 2⋅x ⎠   \n",
       "α⋅⎮ ────────────────────────────────────────────────────────────── dx\n",
       "  ⎮                           2         2                            \n",
       "  ⎮                          x ⋅(-a + x)                             \n",
       "  ⌡                                                                  \n",
       "  0                                                                  \n",
       "─────────────────────────────────────────────────────────────────────\n",
       "                                  2                                  "
      ]
     },
     "execution_count": 184,
     "metadata": {},
     "output_type": "execute_result"
    }
   ],
   "source": [
    "num11 = (phhi*sym.Rational(1/2))\n",
    "num21= sym.diff(sym.diff(phhi,x),x)\n",
    "den11=(phhi**2)\n",
    "Numerator2 =sym.integrate((num11*num21),(x,0,a))\n",
    "Numerator2\n"
   ]
  },
  {
   "cell_type": "code",
   "execution_count": 182,
   "metadata": {},
   "outputs": [
    {
     "data": {
      "text/latex": [
       "$$\\frac{a a^{4 \\alpha} e^{2 i \\pi \\alpha} \\Gamma\\left(2 \\alpha + 1\\right) {{}_{2}F_{1}\\left(\\begin{matrix} - 2 \\alpha, 2 \\alpha + 1 \\\\ 2 \\alpha + 2 \\end{matrix}\\middle| {1} \\right)}}{\\Gamma\\left(2 \\alpha + 2\\right)}$$"
      ],
      "text/plain": [
       "   4⋅α  2⋅ⅈ⋅π⋅α             ┌─  ⎛-2⋅α, 2⋅α + 1 │  ⎞\n",
       "a⋅a   ⋅ℯ       ⋅Γ(2⋅α + 1)⋅ ├─  ⎜              │ 1⎟\n",
       "                           2╵ 1 ⎝   2⋅α + 2    │  ⎠\n",
       "───────────────────────────────────────────────────\n",
       "                     Γ(2⋅α + 2)                    "
      ]
     },
     "execution_count": 182,
     "metadata": {},
     "output_type": "execute_result"
    }
   ],
   "source": [
    "Denominator2= sym.integrate((den11),(x,0,a))\n",
    "Denominator2"
   ]
  },
  {
   "cell_type": "code",
   "execution_count": 179,
   "metadata": {},
   "outputs": [
    {
     "data": {
      "text/latex": [
       "$$\\frac{\\alpha e^{- 2 i \\pi \\alpha} \\Gamma\\left(2 \\alpha + 2\\right) \\int_{0}^{1} \\frac{x^{2 \\alpha} \\left(x - 1\\right)^{2 \\alpha} \\left(4 \\alpha x^{2} - 4 \\alpha x + \\alpha - 2 x^{2} + 2 x - 1\\right)}{x^{2} \\left(x - 1\\right)^{2}}\\, dx}{2 \\Gamma\\left(2 \\alpha + 1\\right) {{}_{2}F_{1}\\left(\\begin{matrix} - 2 \\alpha, 2 \\alpha + 1 \\\\ 2 \\alpha + 2 \\end{matrix}\\middle| {1} \\right)}}$$"
      ],
      "text/plain": [
       "                       1                                                      \n",
       "                       ⌠                                                      \n",
       "                       ⎮  2⋅α        2⋅α ⎛     2                  2          ⎞\n",
       "   -2⋅ⅈ⋅π⋅α            ⎮ x   ⋅(x - 1)   ⋅⎝4⋅α⋅x  - 4⋅α⋅x + α - 2⋅x  + 2⋅x - 1⎠\n",
       "α⋅ℯ        ⋅Γ(2⋅α + 2)⋅⎮ ─────────────────────────────────────────────────────\n",
       "                       ⎮                       2        2                     \n",
       "                       ⎮                      x ⋅(x - 1)                      \n",
       "                       ⌡                                                      \n",
       "                       0                                                      \n",
       "──────────────────────────────────────────────────────────────────────────────\n",
       "                                    ┌─  ⎛-2⋅α, 2⋅α + 1 │  ⎞                   \n",
       "                      2⋅Γ(2⋅α + 1)⋅ ├─  ⎜              │ 1⎟                   \n",
       "                                   2╵ 1 ⎝   2⋅α + 2    │  ⎠                   \n",
       "\n",
       "   \n",
       "   \n",
       "   \n",
       "   \n",
       " dx\n",
       "   \n",
       "   \n",
       "   \n",
       "   \n",
       "───\n",
       "   \n",
       "   \n",
       "   "
      ]
     },
     "execution_count": 179,
     "metadata": {},
     "output_type": "execute_result"
    }
   ],
   "source": [
    "E_trial2=(Numerator2/Denominator2).subs(a,1)\n",
    "E_trial2"
   ]
  },
  {
   "cell_type": "code",
   "execution_count": 180,
   "metadata": {},
   "outputs": [
    {
     "data": {
      "text/latex": [
       "$$\\left\\{\\alpha \\mid \\alpha \\in \\mathbb{C} \\wedge \\left(- 2 \\alpha {{}_{2}F_{1}\\left(\\begin{matrix} - 2 \\alpha, 2 \\alpha + 1 \\\\ 2 \\alpha + 2 \\end{matrix}\\middle| {1} \\right)} \\operatorname{polygamma}{\\left (0,2 \\alpha + 1 \\right )} \\int_{0}^{1} \\frac{x^{2 \\alpha} \\left(x - 1\\right)^{2 \\alpha} \\left(4 \\alpha x^{2} - 4 \\alpha x + \\alpha - 2 x^{2} + 2 x - 1\\right)}{x^{2} \\left(x - 1\\right)^{2}}\\, dx + 2 \\alpha {{}_{2}F_{1}\\left(\\begin{matrix} - 2 \\alpha, 2 \\alpha + 1 \\\\ 2 \\alpha + 2 \\end{matrix}\\middle| {1} \\right)} \\operatorname{polygamma}{\\left (0,2 \\alpha + 2 \\right )} \\int_{0}^{1} \\frac{x^{2 \\alpha} \\left(x - 1\\right)^{2 \\alpha} \\left(4 \\alpha x^{2} - 4 \\alpha x + \\alpha - 2 x^{2} + 2 x - 1\\right)}{x^{2} \\left(x - 1\\right)^{2}}\\, dx + \\alpha {{}_{2}F_{1}\\left(\\begin{matrix} - 2 \\alpha, 2 \\alpha + 1 \\\\ 2 \\alpha + 2 \\end{matrix}\\middle| {1} \\right)} \\int_{0}^{1} \\frac{x^{2 \\alpha} \\left(x - 1\\right)^{2 \\alpha} \\left(4 x^{2} - 4 x + 2 \\left(4 \\alpha x^{2} - 4 \\alpha x + \\alpha - 2 x^{2} + 2 x - 1\\right) \\log{\\left (x \\right )} + 2 \\left(4 \\alpha x^{2} - 4 \\alpha x + \\alpha - 2 x^{2} + 2 x - 1\\right) \\log{\\left (x - 1 \\right )} + 1\\right)}{x^{2} \\left(x - 1\\right)^{2}}\\, dx - 2 i \\pi \\alpha {{}_{2}F_{1}\\left(\\begin{matrix} - 2 \\alpha, 2 \\alpha + 1 \\\\ 2 \\alpha + 2 \\end{matrix}\\middle| {1} \\right)} \\int_{0}^{1} \\frac{x^{2 \\alpha} \\left(x - 1\\right)^{2 \\alpha} \\left(4 \\alpha x^{2} - 4 \\alpha x + \\alpha - 2 x^{2} + 2 x - 1\\right)}{x^{2} \\left(x - 1\\right)^{2}}\\, dx - \\alpha \\frac{d}{d \\alpha} {{}_{2}F_{1}\\left(\\begin{matrix} - 2 \\alpha, 2 \\alpha + 1 \\\\ 2 \\alpha + 2 \\end{matrix}\\middle| {1} \\right)} \\int_{0}^{1} \\frac{x^{2 \\alpha} \\left(x - 1\\right)^{2 \\alpha} \\left(4 \\alpha x^{2} - 4 \\alpha x + \\alpha - 2 x^{2} + 2 x - 1\\right)}{x^{2} \\left(x - 1\\right)^{2}}\\, dx + {{}_{2}F_{1}\\left(\\begin{matrix} - 2 \\alpha, 2 \\alpha + 1 \\\\ 2 \\alpha + 2 \\end{matrix}\\middle| {1} \\right)} \\int_{0}^{1} \\frac{x^{2 \\alpha} \\left(x - 1\\right)^{2 \\alpha} \\left(4 \\alpha x^{2} - 4 \\alpha x + \\alpha - 2 x^{2} + 2 x - 1\\right)}{x^{2} \\left(x - 1\\right)^{2}}\\, dx\\right) \\Gamma\\left(2 \\left(\\alpha + 1\\right)\\right) = 0 \\right\\} \\setminus \\left\\{\\alpha \\mid \\alpha \\in \\mathbb{C} \\wedge e^{2 i \\pi \\alpha} \\Gamma\\left(2 \\alpha + 1\\right) {{{}_{2}F_{1}\\left(\\begin{matrix} - 2 \\alpha, 2 \\alpha + 1 \\\\ 2 \\alpha + 2 \\end{matrix}\\middle| {1} \\right)}}^{2} = 0 \\right\\}$$"
      ],
      "text/plain": [
       "⎧            ⎛                                                     1          \n",
       "⎪            ⎜                                                     ⌠          \n",
       "⎪            ⎜                                                     ⎮  2⋅α     \n",
       "⎪            ⎜       ┌─  ⎛-2⋅α, 2⋅α + 1 │  ⎞                       ⎮ x   ⋅(x -\n",
       "⎨α | α ∊ ℂ ∧ ⎜- 2⋅α⋅ ├─  ⎜              │ 1⎟⋅polygamma(0, 2⋅α + 1)⋅⎮ ─────────\n",
       "⎪            ⎜      2╵ 1 ⎝   2⋅α + 2    │  ⎠                       ⎮          \n",
       "⎪            ⎜                                                     ⎮          \n",
       "⎪            ⎜                                                     ⌡          \n",
       "⎩            ⎝                                                     0          \n",
       "\n",
       "                                                                              \n",
       "                                                                              \n",
       "   2⋅α ⎛     2                  2          ⎞                                  \n",
       " 1)   ⋅⎝4⋅α⋅x  - 4⋅α⋅x + α - 2⋅x  + 2⋅x - 1⎠           ┌─  ⎛-2⋅α, 2⋅α + 1 │  ⎞\n",
       "──────────────────────────────────────────── dx + 2⋅α⋅ ├─  ⎜              │ 1⎟\n",
       "             2        2                               2╵ 1 ⎝   2⋅α + 2    │  ⎠\n",
       "            x ⋅(x - 1)                                                        \n",
       "                                                                              \n",
       "                                                                              \n",
       "\n",
       "                       1                                                      \n",
       "                       ⌠                                                      \n",
       "                       ⎮  2⋅α        2⋅α ⎛     2                  2          ⎞\n",
       "                       ⎮ x   ⋅(x - 1)   ⋅⎝4⋅α⋅x  - 4⋅α⋅x + α - 2⋅x  + 2⋅x - 1⎠\n",
       "⋅polygamma(0, 2⋅α + 2)⋅⎮ ─────────────────────────────────────────────────────\n",
       "                       ⎮                       2        2                     \n",
       "                       ⎮                      x ⋅(x - 1)                      \n",
       "                       ⌡                                                      \n",
       "                       0                                                      \n",
       "\n",
       "                                 1                                            \n",
       "                                 ⌠                                            \n",
       "                                 ⎮  2⋅α        2⋅α ⎛   2           ⎛     2    \n",
       "         ┌─  ⎛-2⋅α, 2⋅α + 1 │  ⎞ ⎮ x   ⋅(x - 1)   ⋅⎝4⋅x  - 4⋅x + 2⋅⎝4⋅α⋅x  - 4\n",
       " dx + α⋅ ├─  ⎜              │ 1⎟⋅⎮ ───────────────────────────────────────────\n",
       "        2╵ 1 ⎝   2⋅α + 2    │  ⎠ ⎮                                            \n",
       "                                 ⎮                                            \n",
       "                                 ⌡                                            \n",
       "                                 0                                            \n",
       "\n",
       "                                                                              \n",
       "                                                                              \n",
       "              2          ⎞            ⎛     2                  2          ⎞   \n",
       "⋅α⋅x + α - 2⋅x  + 2⋅x - 1⎠⋅log(x) + 2⋅⎝4⋅α⋅x  - 4⋅α⋅x + α - 2⋅x  + 2⋅x - 1⎠⋅lo\n",
       "──────────────────────────────────────────────────────────────────────────────\n",
       "                   2        2                                                 \n",
       "                  x ⋅(x - 1)                                                  \n",
       "                                                                              \n",
       "                                                                              \n",
       "\n",
       "                                                    1                         \n",
       "                                                    ⌠                         \n",
       "            ⎞                                       ⎮  2⋅α        2⋅α ⎛     2 \n",
       "g(x - 1) + 1⎠               ┌─  ⎛-2⋅α, 2⋅α + 1 │  ⎞ ⎮ x   ⋅(x - 1)   ⋅⎝4⋅α⋅x  \n",
       "───────────── dx - 2⋅ⅈ⋅π⋅α⋅ ├─  ⎜              │ 1⎟⋅⎮ ────────────────────────\n",
       "                           2╵ 1 ⎝   2⋅α + 2    │  ⎠ ⎮                       2 \n",
       "                                                    ⎮                      x ⋅\n",
       "                                                    ⌡                         \n",
       "                                                    0                         \n",
       "\n",
       "                                                                  1           \n",
       "                                                                  ⌠           \n",
       "                 2          ⎞                                     ⎮  2⋅α      \n",
       "- 4⋅α⋅x + α - 2⋅x  + 2⋅x - 1⎠        d ⎛ ┌─  ⎛-2⋅α, 2⋅α + 1 │  ⎞⎞ ⎮ x   ⋅(x - \n",
       "───────────────────────────── dx - α⋅──⎜ ├─  ⎜              │ 1⎟⎟⋅⎮ ──────────\n",
       "       2                             dα⎝2╵ 1 ⎝   2⋅α + 2    │  ⎠⎠ ⎮           \n",
       "(x - 1)                                                           ⎮           \n",
       "                                                                  ⌡           \n",
       "                                                                  0           \n",
       "\n",
       "                                                                          1   \n",
       "                                                                          ⌠   \n",
       "  2⋅α ⎛     2                  2          ⎞                               ⎮  2\n",
       "1)   ⋅⎝4⋅α⋅x  - 4⋅α⋅x + α - 2⋅x  + 2⋅x - 1⎠       ┌─  ⎛-2⋅α, 2⋅α + 1 │  ⎞ ⎮ x \n",
       "─────────────────────────────────────────── dx +  ├─  ⎜              │ 1⎟⋅⎮ ──\n",
       "            2        2                           2╵ 1 ⎝   2⋅α + 2    │  ⎠ ⎮   \n",
       "           x ⋅(x - 1)                                                     ⎮   \n",
       "                                                                          ⌡   \n",
       "                                                                          0   \n",
       "\n",
       "                                                      ⎞                 ⎫     \n",
       "                                                      ⎟                 ⎪     \n",
       "⋅α        2⋅α ⎛     2                  2          ⎞   ⎟                 ⎪   ⎧ \n",
       "  ⋅(x - 1)   ⋅⎝4⋅α⋅x  - 4⋅α⋅x + α - 2⋅x  + 2⋅x - 1⎠   ⎟                 ⎪   ⎪ \n",
       "─────────────────────────────────────────────────── dx⎟⋅Γ(2⋅(α + 1)) = 0⎬ \\ ⎨α\n",
       "                    2        2                        ⎟                 ⎪   ⎪ \n",
       "                   x ⋅(x - 1)                         ⎟                 ⎪   ⎩ \n",
       "                                                      ⎟                 ⎪     \n",
       "                                                      ⎠                 ⎭     \n",
       "\n",
       "                                                             \n",
       "                                                             \n",
       "                                                       2    ⎫\n",
       "            2⋅ⅈ⋅π⋅α             ┌─  ⎛-2⋅α, 2⋅α + 1 │  ⎞     ⎪\n",
       " | α ∊ ℂ ∧ ℯ       ⋅Γ(2⋅α + 1)⋅ ├─  ⎜              │ 1⎟  = 0⎬\n",
       "                               2╵ 1 ⎝   2⋅α + 2    │  ⎠     ⎪\n",
       "                                                            ⎭\n",
       "                                                             \n",
       "                                                             "
      ]
     },
     "execution_count": 180,
     "metadata": {},
     "output_type": "execute_result"
    }
   ],
   "source": [
    "sym.solveset(sym.diff(E_trial2,alpha))"
   ]
  },
  {
   "cell_type": "markdown",
   "metadata": {},
   "source": [
    "Your descriptions/explanations here"
   ]
  },
  {
   "cell_type": "markdown",
   "metadata": {},
   "source": [
    "### 2.4 Exercise: Design your own wavefunction!"
   ]
  },
  {
   "cell_type": "markdown",
   "metadata": {},
   "source": [
    "**Now you get to make your own wavefunction!**\n",
    "\n",
    "The only guidance I would give you is that it make sense mathematically and that it include $\\alpha$ so that you can minimize the energy.\n",
    "\n",
    "Remember that $a$ and $x$ are both length units, and that trigonometric, logarithmic, and exponential functions are all unitless  \n",
    "\n",
    "\n",
    "Using your new wavefunction:\n",
    "\n",
    "1. Find the minimum energy, $E_{trial}$\n",
    "2. Plot the new trial wavefunction and compare it to the true solution and the wavefunction you found above\n",
    "3. Compare you new energy to the trial energy you found above\n",
    "4. Which wavefunction is better? How do you know?"
   ]
  },
  {
   "cell_type": "code",
   "execution_count": 62,
   "metadata": {},
   "outputs": [],
   "source": [
    "# Your code here"
   ]
  },
  {
   "cell_type": "markdown",
   "metadata": {},
   "source": [
    "Your descriptions/explanations here"
   ]
  },
  {
   "cell_type": "markdown",
   "metadata": {},
   "source": [
    "# Reading Homework"
   ]
  },
  {
   "cell_type": "markdown",
   "metadata": {},
   "source": [
    "Read the following sections in Kramer\n",
    "\n",
    "- 4.2.3 Born-Oppenheimer approximation\n",
    "- 4.3.2 Secular equation\n",
    "- All of 4.5\n",
    "\n",
    "For each subsection\n",
    "- write down the subchapter name\n",
    "- what was the most important idea\n",
    "- draw an idea digram of the main idea\n",
    "\n",
    "**Make sure to upload this to the assignment repository**\n",
    "\n",
    "Example idea diagram:\n",
    "![Particle in a box](idea_map.png)"
   ]
  },
  {
   "cell_type": "code",
   "execution_count": null,
   "metadata": {},
   "outputs": [],
   "source": []
  }
 ],
 "metadata": {
  "kernelspec": {
   "display_name": "Python 3",
   "language": "python",
   "name": "python3"
  },
  "language_info": {
   "codemirror_mode": {
    "name": "ipython",
    "version": 3
   },
   "file_extension": ".py",
   "mimetype": "text/x-python",
   "name": "python",
   "nbconvert_exporter": "python",
   "pygments_lexer": "ipython3",
   "version": "3.7.1"
  }
 },
 "nbformat": 4,
 "nbformat_minor": 2
}
